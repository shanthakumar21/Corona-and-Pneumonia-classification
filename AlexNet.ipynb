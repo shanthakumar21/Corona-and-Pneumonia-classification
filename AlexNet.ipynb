{
 "cells": [
  {
   "cell_type": "markdown",
   "metadata": {},
   "source": [
    "# To build a model for AlexNet Convolution neural network:\n"
   ]
  },
  {
   "cell_type": "code",
   "execution_count": null,
   "metadata": {},
   "outputs": [],
   "source": []
  },
  {
   "cell_type": "code",
   "execution_count": 1,
   "metadata": {},
   "outputs": [],
   "source": [
    "import tensorflow as tf\n",
    "import tensorflow.keras.backend as K"
   ]
  },
  {
   "cell_type": "code",
   "execution_count": 2,
   "metadata": {},
   "outputs": [],
   "source": [
    "from tensorflow.keras.models import Model"
   ]
  },
  {
   "cell_type": "code",
   "execution_count": 3,
   "metadata": {},
   "outputs": [],
   "source": [
    "from tensorflow.keras.models import Sequential"
   ]
  },
  {
   "cell_type": "code",
   "execution_count": 4,
   "metadata": {},
   "outputs": [],
   "source": [
    "from tensorflow.keras.layers import Input"
   ]
  },
  {
   "cell_type": "code",
   "execution_count": 5,
   "metadata": {},
   "outputs": [],
   "source": [
    "from tensorflow.keras.layers import Dense"
   ]
  },
  {
   "cell_type": "code",
   "execution_count": 6,
   "metadata": {},
   "outputs": [],
   "source": [
    "from tensorflow.keras.layers import Flatten"
   ]
  },
  {
   "cell_type": "code",
   "execution_count": 7,
   "metadata": {},
   "outputs": [],
   "source": [
    "from tensorflow.keras.layers import Conv2D"
   ]
  },
  {
   "cell_type": "code",
   "execution_count": 8,
   "metadata": {},
   "outputs": [],
   "source": [
    "from tensorflow.keras.layers import MaxPooling2D"
   ]
  },
  {
   "cell_type": "code",
   "execution_count": 9,
   "metadata": {},
   "outputs": [],
   "source": [
    "from tensorflow.keras.layers import Dropout"
   ]
  },
  {
   "cell_type": "code",
   "execution_count": 10,
   "metadata": {},
   "outputs": [],
   "source": [
    "from tensorflow.keras.layers import LeakyReLU"
   ]
  },
  {
   "cell_type": "code",
   "execution_count": 11,
   "metadata": {},
   "outputs": [],
   "source": [
    "from tensorflow.keras.layers import Activation"
   ]
  },
  {
   "cell_type": "code",
   "execution_count": 12,
   "metadata": {},
   "outputs": [],
   "source": [
    "from tensorflow.keras.optimizers import Adam"
   ]
  },
  {
   "cell_type": "code",
   "execution_count": 13,
   "metadata": {},
   "outputs": [],
   "source": [
    "from tensorflow.keras.preprocessing.image import ImageDataGenerator"
   ]
  },
  {
   "cell_type": "code",
   "execution_count": 14,
   "metadata": {},
   "outputs": [],
   "source": [
    "from tensorflow.keras.callbacks import ModelCheckpoint"
   ]
  },
  {
   "cell_type": "code",
   "execution_count": 15,
   "metadata": {},
   "outputs": [],
   "source": [
    "from tensorflow.keras.callbacks import ReduceLROnPlateau"
   ]
  },
  {
   "cell_type": "code",
   "execution_count": 16,
   "metadata": {},
   "outputs": [],
   "source": [
    "from tensorflow.keras.callbacks import EarlyStopping"
   ]
  },
  {
   "cell_type": "code",
   "execution_count": 17,
   "metadata": {},
   "outputs": [],
   "source": [
    "import warnings\n",
    "warnings.filterwarnings('ignore')"
   ]
  },
  {
   "cell_type": "code",
   "execution_count": 18,
   "metadata": {},
   "outputs": [
    {
     "name": "stdout",
     "output_type": "stream",
     "text": [
      "Model: \"sequential\"\n",
      "_________________________________________________________________\n",
      "Layer (type)                 Output Shape              Param #   \n",
      "=================================================================\n",
      "conv2d (Conv2D)              (None, 54, 54, 96)        34944     \n",
      "_________________________________________________________________\n",
      "activation (Activation)      (None, 54, 54, 96)        0         \n",
      "_________________________________________________________________\n",
      "max_pooling2d (MaxPooling2D) (None, 27, 27, 96)        0         \n",
      "_________________________________________________________________\n",
      "flatten (Flatten)            (None, 69984)             0         \n",
      "_________________________________________________________________\n",
      "dense (Dense)                (None, 256)               17916160  \n",
      "_________________________________________________________________\n",
      "activation_1 (Activation)    (None, 256)               0         \n",
      "_________________________________________________________________\n",
      "dropout (Dropout)            (None, 256)               0         \n",
      "_________________________________________________________________\n",
      "dense_1 (Dense)              (None, 96)                24672     \n",
      "_________________________________________________________________\n",
      "activation_2 (Activation)    (None, 96)                0         \n",
      "_________________________________________________________________\n",
      "dropout_1 (Dropout)          (None, 96)                0         \n",
      "_________________________________________________________________\n",
      "dense_2 (Dense)              (None, 32)                3104      \n",
      "_________________________________________________________________\n",
      "activation_3 (Activation)    (None, 32)                0         \n",
      "_________________________________________________________________\n",
      "dropout_2 (Dropout)          (None, 32)                0         \n",
      "_________________________________________________________________\n",
      "dense_3 (Dense)              (None, 3)                 99        \n",
      "_________________________________________________________________\n",
      "activation_4 (Activation)    (None, 3)                 0         \n",
      "=================================================================\n",
      "Total params: 17,978,979\n",
      "Trainable params: 17,978,979\n",
      "Non-trainable params: 0\n",
      "_________________________________________________________________\n"
     ]
    }
   ],
   "source": [
    "model = Sequential()\n",
    "# 1st Convolutional Layer\n",
    "model.add(Conv2D(filters=96, input_shape=(224,224,3), kernel_size=(11,11), strides=(4,4), padding='valid'))\n",
    "model.add(Activation('relu'))\n",
    "# Max Pooling\n",
    "model.add(MaxPooling2D(pool_size=(2,2), strides=(2,2), padding='valid'))\n",
    "# Passing it to a Fully Connected layer\n",
    "model.add(Flatten())\n",
    "# 1st Fully Connected Layer\n",
    "model.add(Dense(256))\n",
    "model.add(Activation('relu'))\n",
    "# Add Dropout to prevent overfitting\n",
    "model.add(Dropout(0.4))\n",
    "# 2nd Fully Connected Layer\n",
    "model.add(Dense(96))\n",
    "model.add(Activation('relu'))\n",
    "# Add Dropout\n",
    "model.add(Dropout(0.4))\n",
    "# 3rd Fully Connected Layer\n",
    "model.add(Dense(32))\n",
    "model.add(Activation('relu'))\n",
    "# Add Dropout\n",
    "model.add(Dropout(0.4))\n",
    "# Output Layer\n",
    "model.add(Dense(3))\n",
    "model.add(Activation('softmax'))\n",
    "model.summary()\n",
    "\n",
    "# Compile the model\n",
    "model.compile(loss = 'categorical_crossentropy', optimizer='adam', metrics=['accuracy','Precision','Recall','TruePositives','TrueNegatives','FalsePositives','FalseNegatives'])"
   ]
  },
  {
   "cell_type": "code",
   "execution_count": null,
   "metadata": {},
   "outputs": [],
   "source": [
    "print(\"-----Program for Student Information-----\")\n",
    " \n",
    "D = dict()\n",
    " \n",
    "n = int(input('How many student record you want to store?? '))\n",
    " \n",
    "# Add student information\n",
    "# to the dictionary\n",
    "for i in range(0,n):\n",
    "    x, y = input(\"Enter the complete name (First and last name) of student: \").split()\n",
    "    z = input(\"Enter contact number: \")\n",
    "    m = input('Enter Marks: ')\n",
    "    D[x, y] = (z, m)\n",
    "     \n",
    "# define a function for shorting\n",
    "# names based on first name\n",
    "def sort():\n",
    "    ls = list()\n",
    "    # fetch key and value using\n",
    "    # items() method\n",
    "    for sname,details in D.items():\n",
    "       \n",
    "        # store key parts as an tuple\n",
    "        tup = (sname[0],sname[1])\n",
    "         \n",
    "        # add tuple to the list\n",
    "        ls.append(tup)   \n",
    "         \n",
    "    # sort the final list of tuples\n",
    "    ls = sorted(ls)   \n",
    "    for i in ls:\n",
    "       \n",
    "        # print first name and second name\n",
    "        print(i[0],i[1])\n",
    "    return\n",
    "   \n",
    "# define a function for\n",
    "# finding the minimum marks\n",
    "# in stored data\n",
    "def minmarks():\n",
    "    ls = list()\n",
    "    # fetch key and value using\n",
    "    # items() methods\n",
    "    for sname,details in D.items():\n",
    "        # add details second element\n",
    "        # (marks) to the list\n",
    "        ls.append(details[1])   \n",
    "     \n",
    "    # sort the list elemnts   \n",
    "    ls = sorted(ls)   \n",
    "    print(\"Minimum marks: \", min(ls))\n",
    "     \n",
    "    return\n",
    "   \n",
    "# define a function for searching\n",
    "# student contact number\n",
    "def searchdetail(fname):\n",
    "    ls = list()\n",
    "     \n",
    "    for sname,details in D.items():\n",
    "       \n",
    "        tup=(sname,details)\n",
    "        ls.append(tup)\n",
    "         \n",
    "    for i in ls:\n",
    "        if i[0][0] == fname:\n",
    "            print(i[1][0])\n",
    "    returns \n",
    "    \n",
    "   \n",
    "# define a function for\n",
    "# asking the options\n",
    "def option():\n",
    "   \n",
    "    choice = int(input('Enter the operation detail: \\n \\\n",
    "    1: Sorting using first name \\n \\\n",
    "    2: Finding Minimum marks \\n \\\n",
    "    3: Search contact number using first name: \\n \\\n",
    "    4: Exit\\n \\\n",
    "    Option: '))\n",
    "     \n",
    "    if choice == 1:\n",
    "        # function call\n",
    "        sort()\n",
    "        print('Want to perform some other operation??? Y or N: ')\n",
    "        inp = input()\n",
    "        if inp == 'Y':\n",
    "            option()\n",
    "             \n",
    "        # exit function call   \n",
    "        exit()\n",
    "         \n",
    "    elif choice == 2:\n",
    "        minmarks()\n",
    "        print('Want to perform some other operation??? Y or N: ')\n",
    "         \n",
    "        inp = input()\n",
    "        if inp == 'Y':\n",
    "            option()\n",
    "        exit()\n",
    "         \n",
    "    elif choice == 3:\n",
    "        first = input('Enter first name of student: ')\n",
    "        searchdetail(first)\n",
    "         \n",
    "        print('Want to perform some other operation??? Y or N: ')\n",
    "        inp = input()\n",
    "        if inp == 'Y':\n",
    "            option()\n",
    "             \n",
    "        exit()\n",
    "    else:\n",
    "        print('Thanks for executing me!!!!')\n",
    "        exit()\n",
    "         \n",
    "option()"
   ]
  },
  {
   "cell_type": "code",
   "execution_count": 10,
   "metadata": {},
   "outputs": [
    {
     "data": {
      "text/plain": [
       "'abc 123 gfh'"
      ]
     },
     "execution_count": 10,
     "metadata": {},
     "output_type": "execute_result"
    }
   ],
   "source": [
    "myList = ['abc']\n",
    "lookup = ['abc 123 gfh', 'efg 456', 'ijk 789']\n",
    "\n",
    "\n",
    "def checkIfinLookup(mylist, lookup):\n",
    "    for x in mylist:\n",
    "        n = next((s for s in lookup if x in s),None)\n",
    "        if n is not None:\n",
    "            return n\n",
    "\n",
    "checkIfinLookup(myList, lookup)"
   ]
  },
  {
   "cell_type": "code",
   "execution_count": 19,
   "metadata": {},
   "outputs": [],
   "source": [
    "train_datagen=ImageDataGenerator(rescale=1./255,shear_range=0.2,zoom_range=0.2,horizontal_flip=True)\n",
    "test_datagen=ImageDataGenerator(rescale=1./255)"
   ]
  },
  {
   "cell_type": "code",
   "execution_count": 20,
   "metadata": {},
   "outputs": [
    {
     "name": "stdout",
     "output_type": "stream",
     "text": [
      "Found 1449 images belonging to 3 classes.\n",
      "Found 1288 images belonging to 3 classes.\n"
     ]
    }
   ],
   "source": [
    "training_set=train_datagen.flow_from_directory('Data/train',target_size=(224,224),batch_size=32,class_mode='categorical')\n",
    "test_set=test_datagen.flow_from_directory('Data/test',target_size=(224,224),batch_size=32,class_mode='categorical')"
   ]
  },
  {
   "cell_type": "code",
   "execution_count": 21,
   "metadata": {},
   "outputs": [],
   "source": [
    "img_dims = 150\n",
    "epochs = 2\n",
    "batch_size = 1"
   ]
  },
  {
   "cell_type": "code",
   "execution_count": 22,
   "metadata": {},
   "outputs": [
    {
     "name": "stdout",
     "output_type": "stream",
     "text": [
      "Epoch 1/2\n",
      "  46/1449 [..............................] - ETA: 28:36 - loss: 1.4589 - accuracy: 0.3628 - precision: 0.2878 - recall: 0.0515 - true_positives: 25.9565 - true_negatives: 1404.1739 - false_positives: 61.8261 - false_negatives: 707.0435WARNING:tensorflow:Your input ran out of data; interrupting training. Make sure that your dataset or generator can generate at least `steps_per_epoch * epochs` batches (in this case, 2898 batches). You may need to use the repeat() function when building your dataset.\n",
      "WARNING:tensorflow:Your input ran out of data; interrupting training. Make sure that your dataset or generator can generate at least `steps_per_epoch * epochs` batches (in this case, 1288 batches). You may need to use the repeat() function when building your dataset.\n",
      "1449/1449 [==============================] - 88s 59ms/step - loss: 1.2047 - accuracy: 0.3797 - precision: 0.3467 - recall: 0.0270 - true_positives: 37.6177 - true_negatives: 2781.8309 - false_positives: 70.7088 - false_negatives: 1388.6522 - val_loss: 1.0250 - val_accuracy: 0.3486 - val_precision: 0.6286 - val_recall: 0.0683 - val_true_positives: 88.0000 - val_true_negatives: 2524.0000 - val_false_positives: 52.0000 - val_false_negatives: 1200.0000\n"
     ]
    }
   ],
   "source": [
    "#### Fitting the model\n",
    "history = model.fit(\n",
    "           training_set, steps_per_epoch=training_set.samples // batch_size, \n",
    "           epochs=epochs, \n",
    "           validation_data=test_set,validation_steps=test_set.samples // batch_size)"
   ]
  },
  {
   "cell_type": "code",
   "execution_count": 29,
   "metadata": {},
   "outputs": [],
   "source": [
    "import matplotlib.pyplot as plt"
   ]
  },
  {
   "cell_type": "code",
   "execution_count": 24,
   "metadata": {},
   "outputs": [],
   "source": [
    "def graph():\n",
    "    #Plot training & validation accuracy values\n",
    "    plt.plot(history.history['accuracy'])\n",
    "    plt.plot(history.history['val_accuracy'])\n",
    "    plt.title('Model accuracy')\n",
    "    plt.ylabel('Accuracy')\n",
    "    plt.xlabel('Epoch')\n",
    "    plt.legend(['Train', 'Test'], loc='upper left')\n",
    "    plt.show()\n",
    "\n",
    "    # Plot training & validation loss values\n",
    "    plt.plot(history.history['loss'])\n",
    "    plt.plot(history.history['val_loss'])\n",
    "    plt.title('Model loss')\n",
    "    plt.ylabel('Loss')\n",
    "    plt.xlabel('Epoch')\n",
    "    plt.legend(['Train', 'Test'], loc='upper left')\n",
    "    plt.show()\n"
   ]
  },
  {
   "cell_type": "code",
   "execution_count": 25,
   "metadata": {},
   "outputs": [
    {
     "data": {
      "image/png": "[encoded data removed]",
      "text/plain": [
       "<Figure size 432x288 with 1 Axes>"
      ]
     },
     "metadata": {
      "needs_background": "light"
     },
     "output_type": "display_data"
    },
    {
     "data": {
      "image/png": "[encoded data removed]",
      "text/plain": [
       "<Figure size 432x288 with 1 Axes>"
      ]
     },
     "metadata": {
      "needs_background": "light"
     },
     "output_type": "display_data"
    }
   ],
   "source": [
    "graph()"
   ]
  },
  {
   "cell_type": "code",
   "execution_count": 26,
   "metadata": {},
   "outputs": [
    {
     "name": "stdout",
     "output_type": "stream",
     "text": [
      "[INFO] Calculating model accuracy\n",
      "WARNING:tensorflow:sample_weight modes were coerced from\n",
      "  ...\n",
      "    to  \n",
      "  ['...']\n",
      "41/41 [==============================] - 33s 806ms/step - loss: 0.2190 - accuracy: 0.9123 - AUC: 0.9858 - Precision: 0.9196 - Recall: 0.9053 - TruePositives: 1166.0000 - TrueNegatives: 2474.0000 - FalsePositives: 102.0000 - FalseNegatives: 122.0000\n",
      "Test Accuracy: 91.22670888900757\n"
     ]
    }
   ],
   "source": [
    "print(\"[INFO] Calculating model accuracy\")\n",
    "scores = model.evaluate(test_set)\n",
    "print(f\"Test Accuracy: {scores[1]*100}\")"
   ]
  },
  {
   "cell_type": "code",
   "execution_count": 27,
   "metadata": {},
   "outputs": [],
   "source": [
    "precision=scores[3]\n",
    "recall=scores[3]\n",
    "true_positives=scores[5]\n",
    "true_negatives=scores[6]\n",
    "false_positives=scores[7]\n",
    "false_negatives=scores[8]"
   ]
  },
  {
   "cell_type": "code",
   "execution_count": 28,
   "metadata": {},
   "outputs": [],
   "source": [
    "confution_matrix=[[true_positives,false_positives],[false_negatives,true_negatives]]"
   ]
  },
  {
   "cell_type": "code",
   "execution_count": 29,
   "metadata": {},
   "outputs": [
    {
     "name": "stdout",
     "output_type": "stream",
     "text": [
      "Accuracy                     : 91.22670888900757\n",
      "\n",
      "Confution Matrix             :  [[1166.0, 102.0], [122.0, 2474.0]]\n",
      "\n",
      "precision Score              :  0.91955835\n",
      "\n",
      "Recall or Sensitivity Score  :  0.91955835\n",
      "\n",
      "F1 Score                     :  0.9195583462715149\n",
      "\n",
      "Specifisity Score            :  103.0\n"
     ]
    }
   ],
   "source": [
    "print(f\"Accuracy                     : {scores[1]*100}\")\n",
    "print(\"\")\n",
    "print(\"Confution Matrix             : \",confution_matrix)\n",
    "print(\"\")\n",
    "print(\"precision Score              : \",precision)\n",
    "print(\"\")\n",
    "print(\"Recall or Sensitivity Score  : \",recall)\n",
    "print(\"\")\n",
    "f1=(precision*recall)/(precision+recall)\n",
    "F1_Score=2*f1\n",
    "print(\"F1 Score                     : \",F1_Score)\n",
    "print(\"\")\n",
    "Specifisity=true_negatives/true_negatives+false_positives\n",
    "print(\"Specifisity Score            : \",Specifisity)"
   ]
  },
  {
   "cell_type": "code",
   "execution_count": 30,
   "metadata": {},
   "outputs": [],
   "source": [
    "import h5py"
   ]
  },
  {
   "cell_type": "code",
   "execution_count": 31,
   "metadata": {},
   "outputs": [],
   "source": [
    "model.save('covid.h5')"
   ]
  },
  {
   "cell_type": "code",
   "execution_count": 32,
   "metadata": {},
   "outputs": [],
   "source": [
    "import tensorflow as tf\n",
    "from tensorflow.keras.models import load_model"
   ]
  },
  {
   "cell_type": "code",
   "execution_count": 33,
   "metadata": {},
   "outputs": [],
   "source": [
    "classifierLoad=tf.keras.models.load_model('covid.h5')"
   ]
  },
  {
   "cell_type": "code",
   "execution_count": 34,
   "metadata": {},
   "outputs": [],
   "source": [
    "import numpy as np"
   ]
  },
  {
   "cell_type": "code",
   "execution_count": 40,
   "metadata": {},
   "outputs": [],
   "source": [
    "from tensorflow.keras.preprocessing import image\n",
    "test_image=image.load_img('c.jpg',target_size=(224,224))"
   ]
  },
  {
   "cell_type": "code",
   "execution_count": 41,
   "metadata": {},
   "outputs": [
    {
     "data": {
      "image/png": "[encoded data removed]",
      "text/plain": [
       "<Figure size 432x288 with 1 Axes>"
      ]
     },
     "metadata": {
      "needs_background": "light"
     },
     "output_type": "display_data"
    }
   ],
   "source": [
    "import matplotlib.pyplot as plt\n",
    "img = plt.imshow(test_image)"
   ]
  },
  {
   "cell_type": "code",
   "execution_count": 42,
   "metadata": {},
   "outputs": [],
   "source": [
    "test_image=image.img_to_array(test_image)"
   ]
  },
  {
   "cell_type": "code",
   "execution_count": 43,
   "metadata": {},
   "outputs": [],
   "source": [
    "test_image=np.expand_dims(test_image,axis=0)"
   ]
  },
  {
   "cell_type": "code",
   "execution_count": 44,
   "metadata": {},
   "outputs": [],
   "source": [
    "result=classifierLoad.predict(test_image)"
   ]
  },
  {
   "cell_type": "code",
   "execution_count": 45,
   "metadata": {},
   "outputs": [],
   "source": [
    "prediction = result[0]"
   ]
  },
  {
   "cell_type": "code",
   "execution_count": 46,
   "metadata": {},
   "outputs": [],
   "source": [
    "classes=training_set.class_indices"
   ]
  },
  {
   "cell_type": "code",
   "execution_count": 47,
   "metadata": {},
   "outputs": [
    {
     "data": {
      "text/plain": [
       "{'COVID19': 0, 'NORMAL': 1, 'PNEUMONIA': 2}"
      ]
     },
     "execution_count": 47,
     "metadata": {},
     "output_type": "execute_result"
    }
   ],
   "source": [
    "classes"
   ]
  },
  {
   "cell_type": "code",
   "execution_count": 48,
   "metadata": {},
   "outputs": [],
   "source": [
    "prediction=list(prediction)"
   ]
  },
  {
   "cell_type": "code",
   "execution_count": 49,
   "metadata": {},
   "outputs": [
    {
     "data": {
      "text/plain": [
       "[1.0, 0.0, 0.0]"
      ]
     },
     "execution_count": 49,
     "metadata": {},
     "output_type": "execute_result"
    }
   ],
   "source": [
    "prediction"
   ]
  },
  {
   "cell_type": "code",
   "execution_count": 50,
   "metadata": {},
   "outputs": [],
   "source": [
    "classes=['COVID19', 'NORMAL', 'PNEUMONIA']"
   ]
  },
  {
   "cell_type": "code",
   "execution_count": 51,
   "metadata": {},
   "outputs": [],
   "source": [
    "output=zip(classes,prediction)"
   ]
  },
  {
   "cell_type": "code",
   "execution_count": 52,
   "metadata": {},
   "outputs": [],
   "source": [
    "output=dict(output)"
   ]
  },
  {
   "cell_type": "code",
   "execution_count": 53,
   "metadata": {},
   "outputs": [
    {
     "data": {
      "text/plain": [
       "{'COVID19': 1.0, 'NORMAL': 0.0, 'PNEUMONIA': 0.0}"
      ]
     },
     "execution_count": 53,
     "metadata": {},
     "output_type": "execute_result"
    }
   ],
   "source": [
    "output"
   ]
  },
  {
   "cell_type": "code",
   "execution_count": 54,
   "metadata": {},
   "outputs": [
    {
     "name": "stdout",
     "output_type": "stream",
     "text": [
      "COVID19\n"
     ]
    }
   ],
   "source": [
    "if output['COVID19']==1.0 :\n",
    "    print(\"COVID19\")\n",
    "elif output['NORMAL']==1.0:\n",
    "    print(\"NORMAL\")\n",
    "elif output['PNEUMONIA']==1.0:\n",
    "    print(\"PNEUMONIA\")"
   ]
  },
  {
   "cell_type": "code",
   "execution_count": null,
   "metadata": {},
   "outputs": [],
   "source": []
  }
 ],
 "metadata": {
  "kernelspec": {
   "display_name": "Python 3",
   "language": "python",
   "name": "python3"
  },
  "language_info": {
   "codemirror_mode": {
    "name": "ipython",
    "version": 3
   },
   "file_extension": ".py",
   "mimetype": "text/x-python",
   "name": "python",
   "nbconvert_exporter": "python",
   "pygments_lexer": "ipython3",
   "version": "3.8.5"
  }
 },
 "nbformat": 4,
 "nbformat_minor": 4
}
