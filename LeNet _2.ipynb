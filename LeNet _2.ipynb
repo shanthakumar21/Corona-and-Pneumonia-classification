{
 "cells": [
  {
   "cell_type": "markdown",
   "metadata": {},
   "source": [
    "# To build a model for LeNet Convolution neural network:"
   ]
  },
  {
   "cell_type": "code",
   "execution_count": 1,
   "metadata": {},
   "outputs": [],
   "source": [
    "import os\n",
    "import numpy as np # linear algebra\n",
    "import pandas as pd # data processing, CSV file I/O (e.g. pd.read_csv)\n",
    "import random\n",
    "import cv2\n",
    "import matplotlib.pyplot as plt"
   ]
  },
  {
   "cell_type": "code",
   "execution_count": 2,
   "metadata": {},
   "outputs": [],
   "source": [
    "# Dl framwork - tensorflow, keras a backend \n",
    "import tensorflow as tf\n",
    "import tensorflow.keras.backend as K\n",
    "from tensorflow.keras.models import Model, Sequential\n",
    "from tensorflow.keras.layers import Input, Dense, Flatten, Dropout, BatchNormalization \n",
    "from tensorflow.keras.layers import Conv2D, SeparableConv2D, MaxPool2D, LeakyReLU, Activation\n",
    "from tensorflow.keras.optimizers import Adam\n",
    "from tensorflow.keras.preprocessing.image import ImageDataGenerator\n",
    "from tensorflow.keras.callbacks import ModelCheckpoint, ReduceLROnPlateau, EarlyStopping\n",
    "from IPython.display import display\n",
    "from os import listdir\n",
    "from os.path import isfile, join\n",
    "from PIL import Image\n",
    "import glob\n",
    "from tensorflow.keras.preprocessing.image import ImageDataGenerator\n",
    "from tensorflow.keras.layers import Convolution2D\n",
    "from tensorflow.keras.layers import MaxPooling2D\n",
    "from tensorflow.keras.layers import Flatten\n",
    "from tensorflow.keras.layers import Dense"
   ]
  },
  {
   "cell_type": "code",
   "execution_count": 3,
   "metadata": {},
   "outputs": [],
   "source": [
    "import warnings\n",
    "warnings.filterwarnings('ignore')"
   ]
  },
  {
   "cell_type": "code",
   "execution_count": 4,
   "metadata": {},
   "outputs": [],
   "source": [
    "model = Sequential()\n",
    "#Layer 1\n",
    "\n",
    "\n"
   ]
  },
  {
   "cell_type": "code",
   "execution_count": 5,
   "metadata": {},
   "outputs": [],
   "source": [
    "#Conv Layer 1\n",
    "model.add(Conv2D(filters = 6, \n",
    "                 kernel_size = 5, \n",
    "                 strides = 1, \n",
    "                 activation = 'relu', \n",
    "                 input_shape = (225,225,3)))\n",
    "#Pooling layer 1\n",
    "model.add(MaxPooling2D(pool_size = 2, strides = 2))"
   ]
  },
  {
   "cell_type": "code",
   "execution_count": 6,
   "metadata": {},
   "outputs": [],
   "source": [
    "#Layer 2\n",
    "#Conv Layer 2\n",
    "model.add(Conv2D(filters = 16, \n",
    "                 kernel_size = 5,\n",
    "                 strides = 1,\n",
    "                 activation = 'relu',\n",
    "                 input_shape = (14,14,6)))\n",
    "#Pooling Layer 2\n",
    "model.add(MaxPooling2D(pool_size = 2, strides = 2))"
   ]
  },
  {
   "cell_type": "code",
   "execution_count": 7,
   "metadata": {},
   "outputs": [],
   "source": [
    "#Flatten\n",
    "model.add(Flatten())\n",
    "\n"
   ]
  },
  {
   "cell_type": "code",
   "execution_count": 8,
   "metadata": {},
   "outputs": [],
   "source": [
    "#Layer 3\n",
    "#Fully connected layer 1\n",
    "model.add(Dense(units = 32, activation = 'relu'))\n"
   ]
  },
  {
   "cell_type": "code",
   "execution_count": 9,
   "metadata": {},
   "outputs": [],
   "source": [
    "#Layer 4\n",
    "#Fully connected layer 2\n",
    "model.add(Dense(units = 16, activation = 'relu'))\n"
   ]
  },
  {
   "cell_type": "code",
   "execution_count": 10,
   "metadata": {},
   "outputs": [],
   "source": [
    "#Layer 5\n",
    "#Output Layer\n",
    "model.add(Dense(units = 3, activation = 'softmax'))\n"
   ]
  },
  {
   "cell_type": "code",
   "execution_count": 11,
   "metadata": {},
   "outputs": [],
   "source": [
    "model.compile(optimizer = 'adam', loss = 'categorical_crossentropy', metrics = ['accuracy','AUC','Precision','Recall','TruePositives','TrueNegatives','FalsePositives','FalseNegatives'])\n"
   ]
  },
  {
   "cell_type": "code",
   "execution_count": 12,
   "metadata": {},
   "outputs": [
    {
     "name": "stdout",
     "output_type": "stream",
     "text": [
      "Model: \"sequential\"\n",
      "_________________________________________________________________\n",
      "Layer (type)                 Output Shape              Param #   \n",
      "=================================================================\n",
      "conv2d (Conv2D)              (None, 221, 221, 6)       456       \n",
      "_________________________________________________________________\n",
      "max_pooling2d (MaxPooling2D) (None, 110, 110, 6)       0         \n",
      "_________________________________________________________________\n",
      "conv2d_1 (Conv2D)            (None, 106, 106, 16)      2416      \n",
      "_________________________________________________________________\n",
      "max_pooling2d_1 (MaxPooling2 (None, 53, 53, 16)        0         \n",
      "_________________________________________________________________\n",
      "flatten (Flatten)            (None, 44944)             0         \n",
      "_________________________________________________________________\n",
      "dense (Dense)                (None, 32)                1438240   \n",
      "_________________________________________________________________\n",
      "dense_1 (Dense)              (None, 16)                528       \n",
      "_________________________________________________________________\n",
      "dense_2 (Dense)              (None, 3)                 51        \n",
      "=================================================================\n",
      "Total params: 1,441,691\n",
      "Trainable params: 1,441,691\n",
      "Non-trainable params: 0\n",
      "_________________________________________________________________\n"
     ]
    }
   ],
   "source": [
    "model.summary()"
   ]
  },
  {
   "cell_type": "code",
   "execution_count": null,
   "metadata": {},
   "outputs": [],
   "source": []
  },
  {
   "cell_type": "code",
   "execution_count": 13,
   "metadata": {},
   "outputs": [],
   "source": [
    "train_datagen=ImageDataGenerator(rescale=1./255,shear_range=0.2,zoom_range=0.2,horizontal_flip=True)\n",
    "test_datagen=ImageDataGenerator(rescale=1./255)"
   ]
  },
  {
   "cell_type": "code",
   "execution_count": 14,
   "metadata": {},
   "outputs": [
    {
     "name": "stdout",
     "output_type": "stream",
     "text": [
      "Found 1448 images belonging to 3 classes.\n",
      "Found 1288 images belonging to 3 classes.\n"
     ]
    }
   ],
   "source": [
    "training_set=train_datagen.flow_from_directory('Data/train',target_size=(225,225),batch_size=32,class_mode='categorical')\n",
    "test_set=test_datagen.flow_from_directory('Data/test',target_size=(225,225),batch_size=32,class_mode='categorical')"
   ]
  },
  {
   "cell_type": "code",
   "execution_count": 15,
   "metadata": {},
   "outputs": [],
   "source": [
    "img_dims = 150\n",
    "epochs = 7\n",
    "batch_size = 32"
   ]
  },
  {
   "cell_type": "code",
   "execution_count": 17,
   "metadata": {},
   "outputs": [
    {
     "name": "stdout",
     "output_type": "stream",
     "text": [
      "WARNING:tensorflow:From <ipython-input-17-12563e1c4f40>:5: Model.fit_generator (from tensorflow.python.keras.engine.training) is deprecated and will be removed in a future version.\n",
      "Instructions for updating:\n",
      "Please use Model.fit, which supports generators.\n",
      "WARNING:tensorflow:sample_weight modes were coerced from\n",
      "  ...\n",
      "    to  \n",
      "  ['...']\n",
      "WARNING:tensorflow:sample_weight modes were coerced from\n",
      "  ...\n",
      "    to  \n",
      "  ['...']\n",
      "Train for 45 steps, validate for 40 steps\n",
      "Epoch 1/7\n",
      "45/45 [==============================] - 94s 2s/step - loss: 0.8022 - accuracy: 0.6455 - AUC: 0.8273 - Precision: 0.7171 - Recall: 0.4887 - TruePositives: 692.0000 - TrueNegatives: 2559.0000 - FalsePositives: 273.0000 - FalseNegatives: 724.0000 - val_loss: 0.4188 - val_accuracy: 0.8367 - val_AUC: 0.9625 - val_Precision: 0.8522 - val_Recall: 0.8242 - val_TruePositives: 1055.0000 - val_TrueNegatives: 2377.0000 - val_FalsePositives: 183.0000 - val_FalseNegatives: 225.0000\n",
      "Epoch 2/7\n",
      "45/45 [==============================] - 91s 2s/step - loss: 0.4151 - accuracy: 0.8362 - AUC: 0.9515 - Precision: 0.8514 - Recall: 0.8171 - TruePositives: 1157.0000 - TrueNegatives: 2630.0000 - FalsePositives: 202.0000 - FalseNegatives: 259.0000 - val_loss: 0.4390 - val_accuracy: 0.8281 - val_AUC: 0.9464 - val_Precision: 0.8454 - val_Recall: 0.8117 - val_TruePositives: 1039.0000 - val_TrueNegatives: 2370.0000 - val_FalsePositives: 190.0000 - val_FalseNegatives: 241.0000\n",
      "Epoch 3/7\n",
      "45/45 [==============================] - 89s 2s/step - loss: 0.3823 - accuracy: 0.8496 - AUC: 0.9582 - Precision: 0.8619 - Recall: 0.8376 - TruePositives: 1186.0000 - TrueNegatives: 2642.0000 - FalsePositives: 190.0000 - FalseNegatives: 230.0000 - val_loss: 0.2657 - val_accuracy: 0.9000 - val_AUC: 0.9820 - val_Precision: 0.9043 - val_Recall: 0.8930 - val_TruePositives: 1143.0000 - val_TrueNegatives: 2439.0000 - val_FalsePositives: 121.0000 - val_FalseNegatives: 137.0000\n",
      "Epoch 4/7\n",
      "45/45 [==============================] - 89s 2s/step - loss: 0.3281 - accuracy: 0.8686 - AUC: 0.9692 - Precision: 0.8762 - Recall: 0.8644 - TruePositives: 1224.0000 - TrueNegatives: 2659.0000 - FalsePositives: 173.0000 - FalseNegatives: 192.0000 - val_loss: 0.3350 - val_accuracy: 0.8570 - val_AUC: 0.9685 - val_Precision: 0.8725 - val_Recall: 0.8500 - val_TruePositives: 1088.0000 - val_TrueNegatives: 2401.0000 - val_FalsePositives: 159.0000 - val_FalseNegatives: 192.0000\n",
      "Epoch 5/7\n",
      "45/45 [==============================] - 93s 2s/step - loss: 0.2971 - accuracy: 0.8877 - AUC: 0.9747 - Precision: 0.8960 - Recall: 0.8821 - TruePositives: 1249.0000 - TrueNegatives: 2687.0000 - FalsePositives: 145.0000 - FalseNegatives: 167.0000 - val_loss: 0.2425 - val_accuracy: 0.9109 - val_AUC: 0.9831 - val_Precision: 0.9140 - val_Recall: 0.9047 - val_TruePositives: 1158.0000 - val_TrueNegatives: 2451.0000 - val_FalsePositives: 109.0000 - val_FalseNegatives: 122.0000\n",
      "Epoch 6/7\n",
      "45/45 [==============================] - 94s 2s/step - loss: 0.2769 - accuracy: 0.8969 - AUC: 0.9769 - Precision: 0.9018 - Recall: 0.8884 - TruePositives: 1258.0000 - TrueNegatives: 2695.0000 - FalsePositives: 137.0000 - FalseNegatives: 158.0000 - val_loss: 0.2215 - val_accuracy: 0.9125 - val_AUC: 0.9862 - val_Precision: 0.9173 - val_Recall: 0.9102 - val_TruePositives: 1165.0000 - val_TrueNegatives: 2455.0000 - val_FalsePositives: 105.0000 - val_FalseNegatives: 115.0000\n",
      "Epoch 7/7\n",
      "45/45 [==============================] - 92s 2s/step - loss: 0.2780 - accuracy: 0.8983 - AUC: 0.9768 - Precision: 0.9015 - Recall: 0.8919 - TruePositives: 1263.0000 - TrueNegatives: 2694.0000 - FalsePositives: 138.0000 - FalseNegatives: 153.0000 - val_loss: 0.2458 - val_accuracy: 0.9086 - val_AUC: 0.9828 - val_Precision: 0.9123 - val_Recall: 0.9023 - val_TruePositives: 1155.0000 - val_TrueNegatives: 2449.0000 - val_FalsePositives: 111.0000 - val_FalseNegatives: 125.0000\n"
     ]
    }
   ],
   "source": [
    "#### Fitting the model\n",
    "history = model.fit_generator(\n",
    "           training_set,steps_per_epoch=training_set.samples // batch_size, \n",
    "           epochs=epochs, \n",
    "           validation_data=test_set,validation_steps=test_set.samples // batch_size)"
   ]
  },
  {
   "cell_type": "code",
   "execution_count": 21,
   "metadata": {},
   "outputs": [],
   "source": [
    "def graph():\n",
    "    #Plot training & validation accuracy values\n",
    "    plt.plot(history.history['accuracy'])\n",
    "    plt.plot(history.history['val_accuracy'])\n",
    "    plt.title('Model accuracy')\n",
    "    plt.ylabel('Accuracy')\n",
    "    plt.xlabel('Epoch')\n",
    "    plt.legend(['Train', 'Test'], loc='upper left')\n",
    "    plt.show()\n",
    "\n",
    "    # Plot training & validation loss values\n",
    "    plt.plot(history.history['loss'])\n",
    "    plt.plot(history.history['val_loss'])\n",
    "    plt.title('Model loss')\n",
    "    plt.ylabel('Loss')\n",
    "    plt.xlabel('Epoch')\n",
    "    plt.legend(['Train', 'Test'], loc='upper left')\n",
    "    plt.show()"
   ]
  },
  {
   "cell_type": "code",
   "execution_count": 22,
   "metadata": {},
   "outputs": [
    {
     "data": {
      "image/png": "[encoded data removed]",
      "text/plain": [
       "<Figure size 432x288 with 1 Axes>"
      ]
     },
     "metadata": {
      "needs_background": "light"
     },
     "output_type": "display_data"
    },
    {
     "data": {
      "image/png": "[encoded data removed]",
      "text/plain": [
       "<Figure size 432x288 with 1 Axes>"
      ]
     },
     "metadata": {
      "needs_background": "light"
     },
     "output_type": "display_data"
    }
   ],
   "source": [
    "graph()"
   ]
  },
  {
   "cell_type": "code",
   "execution_count": 23,
   "metadata": {},
   "outputs": [
    {
     "name": "stdout",
     "output_type": "stream",
     "text": [
      "[INFO] Calculating model accuracy\n",
      "WARNING:tensorflow:sample_weight modes were coerced from\n",
      "  ...\n",
      "    to  \n",
      "  ['...']\n",
      "41/41 [==============================] - 29s 711ms/step - loss: 0.2416 - accuracy: 0.9092 - AUC: 0.9830 - Precision: 0.9129 - Recall: 0.9030 - TruePositives: 1163.0000 - TrueNegatives: 2465.0000 - FalsePositives: 111.0000 - FalseNegatives: 125.0000\n"
     ]
    }
   ],
   "source": [
    "print(\"[INFO] Calculating model accuracy\")\n",
    "scores = model.evaluate(test_set)"
   ]
  },
  {
   "cell_type": "code",
   "execution_count": 24,
   "metadata": {},
   "outputs": [],
   "source": [
    "precision=scores[3]\n",
    "recall=scores[3]\n",
    "true_positives=scores[5]\n",
    "true_negatives=scores[6]\n",
    "false_positives=scores[7]\n",
    "false_negatives=scores[8]"
   ]
  },
  {
   "cell_type": "code",
   "execution_count": 25,
   "metadata": {},
   "outputs": [],
   "source": [
    "confution_matrix=[[true_positives,false_positives],[false_negatives,true_negatives]]"
   ]
  },
  {
   "cell_type": "markdown",
   "metadata": {},
   "source": [
    "<img src='f1.png' >"
   ]
  },
  {
   "cell_type": "code",
   "execution_count": 26,
   "metadata": {},
   "outputs": [
    {
     "name": "stdout",
     "output_type": "stream",
     "text": [
      "Accuracy                     : 90.91615080833435\n",
      "\n",
      "Confution Matrix             :  [[1163.0, 111.0], [125.0, 2465.0]]\n",
      "\n",
      "precision Score              :  0.91287285\n",
      "\n",
      "Recall or Sensitivity Score  :  0.91287285\n",
      "\n",
      "F1 Score                     :  0.912872850894928\n",
      "\n",
      "Specifisity Score            :  112.0\n"
     ]
    }
   ],
   "source": [
    "print(f\"Accuracy                     : {scores[1]*100}\")\n",
    "print(\"\")\n",
    "print(\"Confution Matrix             : \",confution_matrix)\n",
    "print(\"\")\n",
    "print(\"precision Score              : \",precision)\n",
    "print(\"\")\n",
    "print(\"Recall or Sensitivity Score  : \",recall)\n",
    "print(\"\")\n",
    "f1=(precision*recall)/(precision+recall)\n",
    "F1_Score=2*f1\n",
    "print(\"F1 Score                     : \",F1_Score)\n",
    "print(\"\")\n",
    "Specifisity=true_negatives/true_negatives+false_positives\n",
    "print(\"Specifisity Score            : \",Specifisity)"
   ]
  },
  {
   "cell_type": "code",
   "execution_count": 7,
   "metadata": {},
   "outputs": [
    {
     "data": {
      "image/png": "[encoded data removed]",
      "text/plain": [
       "<Figure size 432x288 with 1 Axes>"
      ]
     },
     "metadata": {
      "needs_background": "light"
     },
     "output_type": "display_data"
    }
   ],
   "source": [
    "\n",
    "import matplotlib.pyplot as plt\n",
    "  \n",
    "# x-coordinates of left sides of bars \n",
    "left = [1, 2]\n",
    "  \n",
    "# heights of bars\n",
    "height = [91.22670888900757, 90.91615080833435]\n",
    "  \n",
    "# labels for bars\n",
    "tick_label = ['Alex-Net', 'Le-Net']\n",
    "  \n",
    "# plotting a bar chart\n",
    "plt.bar(left, height, tick_label = tick_label,\n",
    "        width = 0.6, color = ['red', 'green'])\n",
    "  \n",
    "# naming the x-axis\n",
    "plt.xlabel('Model name')\n",
    "# naming the y-axis\n",
    "plt.ylabel('Accuracy')\n",
    "# plot title\n",
    "plt.title('Alex-Net vs Le-Net')\n",
    "  \n",
    "# function to show the plot\n",
    "plt.show()"
   ]
  },
  {
   "cell_type": "code",
   "execution_count": null,
   "metadata": {},
   "outputs": [],
   "source": []
  },
  {
   "cell_type": "markdown",
   "metadata": {},
   "source": [
    " "
   ]
  }
 ],
 "metadata": {
  "kernelspec": {
   "display_name": "Python 3",
   "language": "python",
   "name": "python3"
  },
  "language_info": {
   "codemirror_mode": {
    "name": "ipython",
    "version": 3
   },
   "file_extension": ".py",
   "mimetype": "text/x-python",
   "name": "python",
   "nbconvert_exporter": "python",
   "pygments_lexer": "ipython3",
   "version": "3.8.5"
  }
 },
 "nbformat": 4,
 "nbformat_minor": 4
}
